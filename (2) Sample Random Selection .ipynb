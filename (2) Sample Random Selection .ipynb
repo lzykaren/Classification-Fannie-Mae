{
 "cells": [
  {
   "cell_type": "code",
   "execution_count": 1,
   "metadata": {},
   "outputs": [],
   "source": [
    "import pandas as pd\n",
    "import numpy as np\n",
    "import matplotlib.pyplot as plt\n",
    "import seaborn as sns\n",
    "import datetime as datetime\n",
    "import warnings\n",
    "\n",
    "from dateutil.parser import parse\n",
    "from sklearn.decomposition import PCA\n",
    "\n",
    "warnings.filterwarnings('ignore')"
   ]
  },
  {
   "cell_type": "code",
   "execution_count": 2,
   "metadata": {},
   "outputs": [],
   "source": [
    "ap = [\n",
    "    'AP_2000Q1.csv','AP_2000Q2.csv','AP_2000Q3.csv','AP_2000Q4.csv',\n",
    "    'AP_2001Q1.csv','AP_2001Q2.csv','AP_2001Q3.csv','AP_2001Q4.csv',\n",
    "    'AP_2002Q1.csv','AP_2002Q2.csv','AP_2002Q3.csv',\n",
    "    'AP_2004Q1.csv','AP_2004Q3.csv','AP_2004Q4.csv',\n",
    "    'AP_2005Q1.csv','AP_2005Q2.csv','AP_2005Q3.csv','AP_2005Q4.csv',\n",
    "    'AP_2006Q1.csv','AP_2006Q2.csv','AP_2006Q3.csv','AP_2006Q4.csv',\n",
    "    'AP_2007Q1.csv','AP_2007Q2.csv','AP_2007Q3.csv','AP_2007Q4.csv',\n",
    "    'AP_2008Q1.csv','AP_2008Q2.csv','AP_2008Q3.csv','AP_2008Q4.csv',\n",
    "    'AP_2009Q1.csv','AP_2009Q2.csv','AP_2009Q3.csv','AP_2009Q4.csv',\n",
    "    'AP_2010Q1.csv','AP_2010Q2.csv','AP_2010Q3.csv','AP_2010Q4.csv',\n",
    "    'AP_2011Q1.csv','AP_2011Q2.csv','AP_2011Q3.csv','AP_2011Q4.csv',\n",
    "    'AP_2012Q1.csv','AP_2012Q2.csv','AP_2012Q3.csv','AP_2012Q4.csv',\n",
    "    'AP_2013Q1.csv','AP_2013Q2.csv','AP_2013Q3.csv','AP_2013Q4.csv',\n",
    "    'AP_2014Q1.csv','AP_2014Q2.csv','AP_2014Q3.csv','AP_2014Q4.csv',\n",
    "    'AP_2015Q1.csv','AP_2015Q2.csv','AP_2015Q3.csv','AP_2015Q4.csv',\n",
    "    'AP_2016Q1.csv','AP_2016Q2.csv','AP_2016Q3.csv','AP_2016Q4.csv',\n",
    "    'AP_2017Q1.csv','AP_2017Q2.csv','AP_2017Q3.csv'\n",
    "    ]"
   ]
  },
  {
   "cell_type": "code",
   "execution_count": 3,
   "metadata": {},
   "outputs": [],
   "source": [
    "pcsv = [\n",
    "        'Performance_2000Q1.csv','Performance_2000Q2.csv','Performance_2000Q3.csv','Performance_2000Q4.csv',\n",
    "        'Performance_2001Q1.csv','Performance_2001Q2.csv','Performance_2001Q3.csv','Performance_2001Q4.csv',\n",
    "        'Performance_2002Q1.csv','Performance_2002Q2.csv','Performance_2002Q3.csv',\n",
    "        'Performance_2004Q1.csv','Performance_2004Q3.csv','Performance_2004Q4.csv',\n",
    "        'Performance_2005Q1.csv','Performance_2005Q2.csv','Performance_2005Q3.csv','Performance_2005Q4.csv',\n",
    "        'Performance_2006Q1.csv','Performance_2006Q2.csv','Performance_2006Q3.csv','Performance_2006Q4.csv',\n",
    "        'Performance_2007Q1.csv','Performance_2007Q2.csv','Performance_2007Q3.csv','Performance_2007Q4.csv',\n",
    "        'Performance_2008Q1.csv','Performance_2008Q2.csv','Performance_2008Q3.csv','Performance_2008Q4.csv',\n",
    "        'Performance_2009Q1.csv','Performance_2009Q2.csv','Performance_2009Q3.csv','Performance_2009Q4.csv',\n",
    "        'Performance_2010Q1.csv','Performance_2010Q2.csv','Performance_2010Q3.csv','Performance_2010Q4.csv',\n",
    "        'Performance_2011Q1.csv','Performance_2011Q2.csv','Performance_2011Q3.csv','Performance_2011Q4.csv',\n",
    "        'Performance_2012Q1.csv','Performance_2012Q2.csv','Performance_2012Q3.csv','Performance_2012Q4.csv',\n",
    "        'Performance_2013Q1.csv','Performance_2013Q2.csv','Performance_2013Q3.csv','Performance_2013Q4.csv',\n",
    "        'Performance_2014Q1.csv','Performance_2014Q2.csv','Performance_2014Q3.csv','Performance_2014Q4.csv',\n",
    "        'Performance_2015Q1.csv','Performance_2015Q2.csv','Performance_2015Q3.csv','Performance_2015Q4.csv',\n",
    "        'Performance_2016Q1.csv','Performance_2016Q2.csv','Performance_2016Q3.csv','Performance_2016Q4.csv',\n",
    "        'Performance_2017Q1.csv','Performance_2017Q2.csv','Performance_2017Q3.csv'\n",
    "        ]"
   ]
  },
  {
   "cell_type": "code",
   "execution_count": 4,
   "metadata": {},
   "outputs": [],
   "source": [
    "acsv = [\n",
    "        'Acquisition_2000Q1.txt','Acquisition_2000Q2.txt','Acquisition_2000Q3.txt','Acquisition_2000Q4.txt',\n",
    "        'Acquisition_2001Q1.txt','Acquisition_2001Q2.txt','Acquisition_2001Q3.txt','Acquisition_2001Q4.txt',\n",
    "        'Acquisition_2002Q1.txt','Acquisition_2002Q2.txt','Acquisition_2002Q3.txt',\n",
    "        'Acquisition_2004Q1.txt','Acquisition_2004Q3.txt','Acquisition_2004Q4.txt',\n",
    "        'Acquisition_2005Q1.txt','Acquisition_2005Q2.txt','Acquisition_2005Q3.txt','Acquisition_2005Q4.txt',\n",
    "        'Acquisition_2006Q1.txt','Acquisition_2006Q2.txt','Acquisition_2006Q3.txt','Acquisition_2006Q4.txt',\n",
    "        'Acquisition_2007Q1.txt','Acquisition_2007Q2.txt','Acquisition_2007Q3.txt','Acquisition_2007Q4.txt',\n",
    "        'Acquisition_2008Q1.txt','Acquisition_2008Q2.txt','Acquisition_2008Q3.txt','Acquisition_2008Q4.txt',\n",
    "        'Acquisition_2009Q1.txt','Acquisition_2009Q2.txt','Acquisition_2009Q3.txt','Acquisition_2009Q4.txt',\n",
    "        'Acquisition_2010Q1.txt','Acquisition_2010Q2.txt','Acquisition_2010Q3.txt','Acquisition_2010Q4.txt',\n",
    "        'Acquisition_2011Q1.txt','Acquisition_2011Q2.txt','Acquisition_2011Q3.txt','Acquisition_2011Q4.txt',\n",
    "        'Acquisition_2012Q1.txt','Acquisition_2012Q2.txt','Acquisition_2012Q3.txt','Acquisition_2012Q4.txt',\n",
    "        'Acquisition_2013Q1.txt','Acquisition_2013Q2.txt','Acquisition_2013Q3.txt','Acquisition_2013Q4.txt',\n",
    "        'Acquisition_2014Q1.txt','Acquisition_2014Q2.txt','Acquisition_2014Q3.txt','Acquisition_2014Q4.txt',\n",
    "        'Acquisition_2015Q1.txt','Acquisition_2015Q2.txt','Acquisition_2015Q3.txt','Acquisition_2015Q4.txt',\n",
    "        'Acquisition_2016Q1.txt','Acquisition_2016Q2.txt','Acquisition_2016Q3.txt','Acquisition_2016Q4.txt',\n",
    "        'Acquisition_2017Q1.txt','Acquisition_2017Q2.txt','Acquisition_2017Q3.txt'\n",
    "        ]"
   ]
  },
  {
   "cell_type": "code",
   "execution_count": null,
   "metadata": {},
   "outputs": [],
   "source": [
    "for i in range(len(acsv)):\n",
    "    a = pd.read_csv(acsv[i],header=None,sep='|',names=Acquisitions_Variables)\n",
    "    p = pd.read_csv(pcsv[i],header=0,names=Performance_Variables)\n",
    "    AP = pd.merge(a,p,how='inner',on=\"LOAN_ID\")\n",
    "    m = AP.shape[0] // 200\n",
    "    AP = AP.iloc[:m,:]\n",
    "    AP.to_csv(ap[i])"
   ]
  }
 ],
 "metadata": {
  "kernelspec": {
   "display_name": "Python 3",
   "language": "python",
   "name": "python3"
  },
  "language_info": {
   "codemirror_mode": {
    "name": "ipython",
    "version": 3
   },
   "file_extension": ".py",
   "mimetype": "text/x-python",
   "name": "python",
   "nbconvert_exporter": "python",
   "pygments_lexer": "ipython3",
   "version": "3.6.5"
  }
 },
 "nbformat": 4,
 "nbformat_minor": 2
}
